{
 "cells": [
  {
   "cell_type": "code",
   "execution_count": 1,
   "id": "cc5928fd",
   "metadata": {},
   "outputs": [
    {
     "name": "stdout",
     "output_type": "stream",
     "text": [
      "Data awal:\n",
      "         date       state  fips  cases  deaths\n",
      "0  2020-01-21  Washington    53      1       0\n",
      "1  2020-01-22  Washington    53      1       0\n",
      "2  2020-01-23  Washington    53      1       0\n",
      "3  2020-01-24    Illinois    17      1       0\n",
      "4  2020-01-24  Washington    53      1       0\n",
      "\n",
      "Info kolom:\n",
      "<class 'pandas.core.frame.DataFrame'>\n",
      "RangeIndex: 61942 entries, 0 to 61941\n",
      "Data columns (total 5 columns):\n",
      " #   Column  Non-Null Count  Dtype \n",
      "---  ------  --------------  ----- \n",
      " 0   date    61942 non-null  object\n",
      " 1   state   61942 non-null  object\n",
      " 2   fips    61942 non-null  int64 \n",
      " 3   cases   61942 non-null  int64 \n",
      " 4   deaths  61942 non-null  int64 \n",
      "dtypes: int64(3), object(2)\n",
      "memory usage: 2.4+ MB\n",
      "\n",
      "Jumlah missing values per kolom:\n",
      "date      0\n",
      "state     0\n",
      "fips      0\n",
      "cases     0\n",
      "deaths    0\n",
      "dtype: int64\n",
      "\n",
      "Preprocessing selesai. File disimpan sebagai 'us_states_preprocessed.csv'\n"
     ]
    }
   ],
   "source": [
    "import pandas as pd\n",
    "\n",
    "# 1. Load dataset\n",
    "df = pd.read_csv(\"us-states.csv\")\n",
    "\n",
    "# 2. Tampilkan 5 baris awal\n",
    "print(\"Data awal:\")\n",
    "print(df.head())\n",
    "\n",
    "# 3. Cek info tipe data\n",
    "print(\"\\nInfo kolom:\")\n",
    "df.info()\n",
    "\n",
    "# 4. Ubah kolom 'date' jadi format datetime\n",
    "df['date'] = pd.to_datetime(df['date'])\n",
    "\n",
    "# 5. Cek missing values\n",
    "print(\"\\nJumlah missing values per kolom:\")\n",
    "print(df.isnull().sum())\n",
    "\n",
    "# 6. Tambahkan kolom kasus harian dan kematian harian per state\n",
    "df = df.sort_values(['state', 'date'])  # Penting: urutkan dahulu\n",
    "\n",
    "df['daily_cases'] = df.groupby('state')['cases'].diff().fillna(0).astype(int)\n",
    "df['daily_deaths'] = df.groupby('state')['deaths'].diff().fillna(0).astype(int)\n",
    "\n",
    "# 7. Tambahkan case fatality rate\n",
    "df['fatality_rate'] = df['deaths'] / df['cases']\n",
    "df['fatality_rate'] = df['fatality_rate'].fillna(0).round(4)\n",
    "\n",
    "# 8. Hapus data negatif akibat anomali (jika ada)\n",
    "df = df[(df['daily_cases'] >= 0) & (df['daily_deaths'] >= 0)]\n",
    "\n",
    "# 9. Simpan hasil preprocess ke file baru\n",
    "df.to_csv(\"us_states_preprocessed.csv\", index=False)\n",
    "\n",
    "print(\"\\nPreprocessing selesai. File disimpan sebagai 'us_states_preprocessed.csv'\")"
   ]
  },
  {
   "cell_type": "code",
   "execution_count": 99,
   "id": "d97228c2",
   "metadata": {},
   "outputs": [
    {
     "name": "stdout",
     "output_type": "stream",
     "text": [
      "http://localhost:62429\n",
      "Press Ctrl+C to stop the server\n",
      "Server stopped\n"
     ]
    }
   ],
   "source": [
    "import atoti as tt\n",
    "import pandas as pd\n",
    "from atoti import Session\n",
    "import time\n",
    "\n",
    "df = pd.read_csv(\"us_states_preprocessed.csv\")\n",
    "df[\"date\"] = pd.to_datetime(df[\"date\"])\n",
    "df[\"year\"] = df[\"date\"].dt.strftime('%Y')\n",
    "df[\"month\"] = df[\"date\"].dt.strftime('%B')\n",
    "\n",
    "session = tt.Session.start()\n",
    "\n",
    "covid_table = session.read_pandas(\n",
    "    df,\n",
    "    keys=[\"state\", \"date\"],\n",
    "    table_name=\"covid\"\n",
    ")\n",
    "\n",
    "cube = session.create_cube(covid_table)\n",
    "h= cube.hierarchies\n",
    "h[\"Time\"] = [covid_table[\"year\"],covid_table[\"month\"],covid_table[\"date\"]]\n",
    "h[\"Location\"] = [covid_table[\"state\"]]\n",
    "\n",
    "# Measures seperti biasa\n",
    "m = cube.measures\n",
    "m[\"sum_daily_cases\"] = tt.agg.sum(covid_table[\"daily_cases\"])\n",
    "m[\"sum_daily_deaths\"] = tt.agg.sum(covid_table[\"daily_deaths\"])\n",
    "m[\"sum_cases\"] = tt.agg.sum(covid_table[\"cases\"])\n",
    "m[\"sum_deaths\"] = tt.agg.sum(covid_table[\"deaths\"])\n",
    "m[\"case_fatality_rate (%)\"] = (m[\"sum_deaths\"] / m[\"sum_cases\"]) * 100\n",
    "\n",
    "\n",
    "print(session.link)\n",
    "# Biar session tetap hidup dan server jalan terus\n",
    "print(\"Press Ctrl+C to stop the server\")\n",
    "try:\n",
    "    while True:\n",
    "        time.sleep(1)\n",
    "except KeyboardInterrupt:\n",
    "    print(\"Server stopped\")\n",
    "\n"
   ]
  },
  {
   "cell_type": "code",
   "execution_count": 100,
   "id": "69dc8a57-8190-47e1-b52a-63b6da6993f9",
   "metadata": {},
   "outputs": [
    {
     "name": "stderr",
     "output_type": "stream",
     "text": [
      "C:\\Users\\zulai\\AppData\\Local\\Temp\\ipykernel_14992\\1032444978.py:1: FutureWarning: `Table.columns` is deprecated, use `list(table)` instead.\n",
      "  covid_table.columns\n"
     ]
    },
    {
     "data": {
      "text/plain": [
       "['date',\n",
       " 'state',\n",
       " 'fips',\n",
       " 'cases',\n",
       " 'deaths',\n",
       " 'daily_cases',\n",
       " 'daily_deaths',\n",
       " 'fatality_rate',\n",
       " 'year',\n",
       " 'month']"
      ]
     },
     "execution_count": 100,
     "metadata": {},
     "output_type": "execute_result"
    }
   ],
   "source": [
    "covid_table.columns\n"
   ]
  },
  {
   "cell_type": "code",
   "execution_count": 101,
   "id": "01b97b09",
   "metadata": {},
   "outputs": [
    {
     "data": {
      "application/json": {
       "covid": {
        "Location": [
         "state"
        ],
        "Time": [
         "year",
         "month",
         "date"
        ],
        "date": [
         "date"
        ],
        "month": [
         "month"
        ],
        "state": [
         "state"
        ],
        "year": [
         "year"
        ]
       }
      },
      "text/html": [
       "<ul>\n",
       "<li>Dimensions\n",
       "  <ul>\n",
       "  <li>covid\n",
       "    <ul>\n",
       "    <li>Location\n",
       "      <ol>\n",
       "      <li>state</li>\n",
       "      </ol>    </li>\n",
       "    <li>Time\n",
       "      <ol>\n",
       "      <li>year</li>\n",
       "      <li>month</li>\n",
       "      <li>date</li>\n",
       "      </ol>    </li>\n",
       "    <li>date\n",
       "      <ol>\n",
       "      <li>date</li>\n",
       "      </ol>    </li>\n",
       "    <li>month\n",
       "      <ol>\n",
       "      <li>month</li>\n",
       "      </ol>    </li>\n",
       "    <li>state\n",
       "      <ol>\n",
       "      <li>state</li>\n",
       "      </ol>    </li>\n",
       "    <li>year\n",
       "      <ol>\n",
       "      <li>year</li>\n",
       "      </ol>    </li>\n",
       "    </ul>\n",
       "  </li>\n",
       "  </ul>\n",
       "</li>\n",
       "</ul>\n"
      ],
      "text/plain": [
       "{('covid', 'date'): <atoti.hierarchy.Hierarchy object at 0x0000026D807AA9F0>, ('covid', 'state'): <atoti.hierarchy.Hierarchy object at 0x0000026D807AA7B0>, ('covid', 'month'): <atoti.hierarchy.Hierarchy object at 0x0000026D807A8EF0>, ('covid', 'year'): <atoti.hierarchy.Hierarchy object at 0x0000026D807AAB10>, ('covid', 'Time'): <atoti.hierarchy.Hierarchy object at 0x0000026D807AAF60>, ('covid', 'Location'): <atoti.hierarchy.Hierarchy object at 0x0000026D807AABA0>}"
      ]
     },
     "execution_count": 101,
     "metadata": {
      "application/json": {
       "expanded": true,
       "root": "Dimensions"
      }
     },
     "output_type": "execute_result"
    }
   ],
   "source": [
    " cube.hierarchies"
   ]
  },
  {
   "cell_type": "code",
   "execution_count": 102,
   "id": "469c5a22",
   "metadata": {},
   "outputs": [
    {
     "data": {
      "application/json": {
       "case_fatality_rate (%)": {
        "formatter": "DOUBLE[#,###.00]"
       },
       "cases.MEAN": {
        "formatter": "DOUBLE[#,###.00]"
       },
       "cases.SUM": {
        "formatter": "INT[#,###]"
       },
       "contributors.COUNT": {
        "formatter": "INT[#,###]"
       },
       "daily_cases.MEAN": {
        "formatter": "DOUBLE[#,###.00]"
       },
       "daily_cases.SUM": {
        "formatter": "INT[#,###]"
       },
       "daily_deaths.MEAN": {
        "formatter": "DOUBLE[#,###.00]"
       },
       "daily_deaths.SUM": {
        "formatter": "INT[#,###]"
       },
       "deaths.MEAN": {
        "formatter": "DOUBLE[#,###.00]"
       },
       "deaths.SUM": {
        "formatter": "INT[#,###]"
       },
       "fatality_rate.MEAN": {
        "formatter": "DOUBLE[#,###.00]"
       },
       "fatality_rate.SUM": {
        "formatter": "DOUBLE[#,###.00]"
       },
       "fips.MEAN": {
        "formatter": "DOUBLE[#,###.00]"
       },
       "fips.SUM": {
        "formatter": "INT[#,###]"
       },
       "sum_cases": {
        "formatter": "INT[#,###]"
       },
       "sum_daily_cases": {
        "formatter": "INT[#,###]"
       },
       "sum_daily_deaths": {
        "formatter": "INT[#,###]"
       },
       "sum_deaths": {
        "formatter": "INT[#,###]"
       }
      },
      "text/html": [
       "<ul>\n",
       "<li>Measures\n",
       "  <ul>\n",
       "  <li>case_fatality_rate (%)\n",
       "    <ul>\n",
       "    <li>formatter: DOUBLE[#,###.00]</li>\n",
       "    </ul>\n",
       "  </li>\n",
       "  <li>cases.MEAN\n",
       "    <ul>\n",
       "    <li>formatter: DOUBLE[#,###.00]</li>\n",
       "    </ul>\n",
       "  </li>\n",
       "  <li>cases.SUM\n",
       "    <ul>\n",
       "    <li>formatter: INT[#,###]</li>\n",
       "    </ul>\n",
       "  </li>\n",
       "  <li>contributors.COUNT\n",
       "    <ul>\n",
       "    <li>formatter: INT[#,###]</li>\n",
       "    </ul>\n",
       "  </li>\n",
       "  <li>daily_cases.MEAN\n",
       "    <ul>\n",
       "    <li>formatter: DOUBLE[#,###.00]</li>\n",
       "    </ul>\n",
       "  </li>\n",
       "  <li>daily_cases.SUM\n",
       "    <ul>\n",
       "    <li>formatter: INT[#,###]</li>\n",
       "    </ul>\n",
       "  </li>\n",
       "  <li>daily_deaths.MEAN\n",
       "    <ul>\n",
       "    <li>formatter: DOUBLE[#,###.00]</li>\n",
       "    </ul>\n",
       "  </li>\n",
       "  <li>daily_deaths.SUM\n",
       "    <ul>\n",
       "    <li>formatter: INT[#,###]</li>\n",
       "    </ul>\n",
       "  </li>\n",
       "  <li>deaths.MEAN\n",
       "    <ul>\n",
       "    <li>formatter: DOUBLE[#,###.00]</li>\n",
       "    </ul>\n",
       "  </li>\n",
       "  <li>deaths.SUM\n",
       "    <ul>\n",
       "    <li>formatter: INT[#,###]</li>\n",
       "    </ul>\n",
       "  </li>\n",
       "  <li>fatality_rate.MEAN\n",
       "    <ul>\n",
       "    <li>formatter: DOUBLE[#,###.00]</li>\n",
       "    </ul>\n",
       "  </li>\n",
       "  <li>fatality_rate.SUM\n",
       "    <ul>\n",
       "    <li>formatter: DOUBLE[#,###.00]</li>\n",
       "    </ul>\n",
       "  </li>\n",
       "  <li>fips.MEAN\n",
       "    <ul>\n",
       "    <li>formatter: DOUBLE[#,###.00]</li>\n",
       "    </ul>\n",
       "  </li>\n",
       "  <li>fips.SUM\n",
       "    <ul>\n",
       "    <li>formatter: INT[#,###]</li>\n",
       "    </ul>\n",
       "  </li>\n",
       "  <li>sum_cases\n",
       "    <ul>\n",
       "    <li>formatter: INT[#,###]</li>\n",
       "    </ul>\n",
       "  </li>\n",
       "  <li>sum_daily_cases\n",
       "    <ul>\n",
       "    <li>formatter: INT[#,###]</li>\n",
       "    </ul>\n",
       "  </li>\n",
       "  <li>sum_daily_deaths\n",
       "    <ul>\n",
       "    <li>formatter: INT[#,###]</li>\n",
       "    </ul>\n",
       "  </li>\n",
       "  <li>sum_deaths\n",
       "    <ul>\n",
       "    <li>formatter: INT[#,###]</li>\n",
       "    </ul>\n",
       "  </li>\n",
       "  </ul>\n",
       "</li>\n",
       "</ul>\n"
      ],
      "text/plain": [
       "{'fatality_rate.SUM': <atoti.measure.Measure object at 0x0000026D81F8A000>, 'deaths.MEAN': <atoti.measure.Measure object at 0x0000026D81F89A60>, 'daily_cases.SUM': <atoti.measure.Measure object at 0x0000026D81F88080>, 'daily_deaths.SUM': <atoti.measure.Measure object at 0x0000026D81F88F50>, 'cases.SUM': <atoti.measure.Measure object at 0x0000026D81F88740>, 'fatality_rate.MEAN': <atoti.measure.Measure object at 0x0000026D81F88140>, 'deaths.SUM': <atoti.measure.Measure object at 0x0000026D81F88860>, 'contributors.COUNT': <atoti.measure.Measure object at 0x0000026D81F885F0>, 'fips.MEAN': <atoti.measure.Measure object at 0x0000026D81F89B20>, 'daily_cases.MEAN': <atoti.measure.Measure object at 0x0000026D81F887A0>, 'daily_deaths.MEAN': <atoti.measure.Measure object at 0x0000026D81F881A0>, 'cases.MEAN': <atoti.measure.Measure object at 0x0000026D81F880E0>, 'fips.SUM': <atoti.measure.Measure object at 0x0000026D81F88800>, 'update.TIMESTAMP': <atoti.measure.Measure object at 0x0000026D81F886E0>, 'sum_daily_cases': <atoti.measure.Measure object at 0x0000026D81F89D90>, 'sum_daily_deaths': <atoti.measure.Measure object at 0x0000026D81F880B0>, 'sum_cases': <atoti.measure.Measure object at 0x0000026D81F88260>, 'sum_deaths': <atoti.measure.Measure object at 0x0000026D81F885C0>, 'case_fatality_rate (%)': <atoti.measure.Measure object at 0x0000026D81F884D0>}"
      ]
     },
     "execution_count": 102,
     "metadata": {
      "application/json": {
       "expanded": false,
       "root": "Measures"
      }
     },
     "output_type": "execute_result"
    }
   ],
   "source": [
    "m = cube.measures\n",
    "m"
   ]
  },
  {
   "cell_type": "code",
   "execution_count": 55,
   "id": "656d8163",
   "metadata": {},
   "outputs": [
    {
     "data": {
      "text/markdown": [
       "```mermaid\n",
       "erDiagram\n",
       "  \"covid\" {\n",
       "    non-null LocalDate \"date\"\n",
       "    non-null String PK \"state\"\n",
       "    nullable long \"fips\"\n",
       "    nullable long \"cases\"\n",
       "    nullable long \"deaths\"\n",
       "    nullable long \"daily_cases\"\n",
       "    nullable long \"daily_deaths\"\n",
       "    nullable double \"fatality_rate\"\n",
       "    non-null String \"year\"\n",
       "    non-null String \"month\"\n",
       "  }\n",
       "```\n"
      ],
      "text/plain": [
       "erDiagram\n",
       "  \"covid\" {\n",
       "    non-null LocalDate \"date\"\n",
       "    non-null String PK \"state\"\n",
       "    nullable long \"fips\"\n",
       "    nullable long \"cases\"\n",
       "    nullable long \"deaths\"\n",
       "    nullable long \"daily_cases\"\n",
       "    nullable long \"daily_deaths\"\n",
       "    nullable double \"fatality_rate\"\n",
       "    non-null String \"year\"\n",
       "    non-null String \"month\"\n",
       "  }"
      ]
     },
     "execution_count": 55,
     "metadata": {},
     "output_type": "execute_result"
    }
   ],
   "source": [
    "session.tables\n",
    "session.tables.schema"
   ]
  },
  {
   "cell_type": "code",
   "execution_count": 103,
   "id": "31ecdb40-37e5-4cfb-980f-8dcc4e2a5a43",
   "metadata": {},
   "outputs": [
    {
     "data": {
      "application/json": {
       "date (covid/Time)": {
        "data type": "LocalDate",
        "dimension": "covid",
        "hierarchy": "Time",
        "order": "NaturalOrder"
       },
       "date (covid/date)": {
        "data type": "LocalDate",
        "dimension": "covid",
        "hierarchy": "date",
        "order": "NaturalOrder"
       },
       "month (covid/Time)": {
        "data type": "String",
        "dimension": "covid",
        "hierarchy": "Time",
        "order": "NaturalOrder"
       },
       "month (covid/month)": {
        "data type": "String",
        "dimension": "covid",
        "hierarchy": "month",
        "order": "NaturalOrder"
       },
       "state (covid/Location)": {
        "data type": "String",
        "dimension": "covid",
        "hierarchy": "Location",
        "order": "NaturalOrder"
       },
       "state (covid/state)": {
        "data type": "String",
        "dimension": "covid",
        "hierarchy": "state",
        "order": "NaturalOrder"
       },
       "year (covid/Time)": {
        "data type": "String",
        "dimension": "covid",
        "hierarchy": "Time",
        "order": "NaturalOrder"
       },
       "year (covid/year)": {
        "data type": "String",
        "dimension": "covid",
        "hierarchy": "year",
        "order": "NaturalOrder"
       }
      },
      "text/html": [
       "<ul>\n",
       "<li>Levels\n",
       "  <ul>\n",
       "  <li>date (covid/Time)\n",
       "    <ul>\n",
       "    <li>dimension: covid</li>\n",
       "    <li>hierarchy: Time</li>\n",
       "    <li>data type: LocalDate</li>\n",
       "    <li>order: NaturalOrder</li>\n",
       "    </ul>\n",
       "  </li>\n",
       "  <li>date (covid/date)\n",
       "    <ul>\n",
       "    <li>dimension: covid</li>\n",
       "    <li>hierarchy: date</li>\n",
       "    <li>data type: LocalDate</li>\n",
       "    <li>order: NaturalOrder</li>\n",
       "    </ul>\n",
       "  </li>\n",
       "  <li>month (covid/Time)\n",
       "    <ul>\n",
       "    <li>dimension: covid</li>\n",
       "    <li>hierarchy: Time</li>\n",
       "    <li>data type: String</li>\n",
       "    <li>order: NaturalOrder</li>\n",
       "    </ul>\n",
       "  </li>\n",
       "  <li>month (covid/month)\n",
       "    <ul>\n",
       "    <li>dimension: covid</li>\n",
       "    <li>hierarchy: month</li>\n",
       "    <li>data type: String</li>\n",
       "    <li>order: NaturalOrder</li>\n",
       "    </ul>\n",
       "  </li>\n",
       "  <li>state (covid/Location)\n",
       "    <ul>\n",
       "    <li>dimension: covid</li>\n",
       "    <li>hierarchy: Location</li>\n",
       "    <li>data type: String</li>\n",
       "    <li>order: NaturalOrder</li>\n",
       "    </ul>\n",
       "  </li>\n",
       "  <li>state (covid/state)\n",
       "    <ul>\n",
       "    <li>dimension: covid</li>\n",
       "    <li>hierarchy: state</li>\n",
       "    <li>data type: String</li>\n",
       "    <li>order: NaturalOrder</li>\n",
       "    </ul>\n",
       "  </li>\n",
       "  <li>year (covid/Time)\n",
       "    <ul>\n",
       "    <li>dimension: covid</li>\n",
       "    <li>hierarchy: Time</li>\n",
       "    <li>data type: String</li>\n",
       "    <li>order: NaturalOrder</li>\n",
       "    </ul>\n",
       "  </li>\n",
       "  <li>year (covid/year)\n",
       "    <ul>\n",
       "    <li>dimension: covid</li>\n",
       "    <li>hierarchy: year</li>\n",
       "    <li>data type: String</li>\n",
       "    <li>order: NaturalOrder</li>\n",
       "    </ul>\n",
       "  </li>\n",
       "  </ul>\n",
       "</li>\n",
       "</ul>\n"
      ],
      "text/plain": [
       "{('covid', 'date', 'date'): <atoti.level.Level object at 0x0000026D807AA060>, ('covid', 'state', 'state'): <atoti.level.Level object at 0x0000026D807A8DA0>, ('covid', 'month', 'month'): <atoti.level.Level object at 0x0000026D807A9CA0>, ('covid', 'year', 'year'): <atoti.level.Level object at 0x0000026D807AB290>, ('covid', 'Time', 'year'): <atoti.level.Level object at 0x0000026D807AB440>, ('covid', 'Time', 'month'): <atoti.level.Level object at 0x0000026D807A8890>, ('covid', 'Time', 'date'): <atoti.level.Level object at 0x0000026D807AB8C0>, ('covid', 'Location', 'state'): <atoti.level.Level object at 0x0000026D807A83E0>}"
      ]
     },
     "execution_count": 103,
     "metadata": {
      "application/json": {
       "expanded": true,
       "root": "Levels"
      }
     },
     "output_type": "execute_result"
    }
   ],
   "source": [
    "l = cube.levels\n",
    "l"
   ]
  },
  {
   "cell_type": "code",
   "execution_count": 105,
   "id": "d78ec88c-bcd2-46a6-8d77-0379785d4756",
   "metadata": {},
   "outputs": [
    {
     "name": "stdout",
     "output_type": "stream",
     "text": [
      "dict_keys([('covid', 'date', 'date'), ('covid', 'state', 'state'), ('covid', 'month', 'month'), ('covid', 'year', 'year'), ('covid', 'Location', 'state'), ('covid', 'Time', 'Year'), ('covid', 'Time', 'Month'), ('covid', 'Time', 'Date')])\n"
     ]
    }
   ],
   "source": [
    "print(cube.levels.keys())\n"
   ]
  },
  {
   "cell_type": "code",
   "execution_count": 138,
   "id": "e6510cbc-a094-4640-b215-2262455ff150",
   "metadata": {},
   "outputs": [
    {
     "name": "stdout",
     "output_type": "stream",
     "text": [
      "['2020' '2021' '2022' '2023']\n",
      "['March' 'April' 'May' 'June' 'July' 'August' 'September' 'October'\n",
      " 'November' 'December' 'January' 'February']\n"
     ]
    }
   ],
   "source": [
    "print(df[\"year\"] .unique())\n",
    "print(df[\"month\"].unique())\n"
   ]
  },
  {
   "cell_type": "code",
   "execution_count": 142,
   "id": "90319a5a-3707-4189-9bdd-f9ac07fffea1",
   "metadata": {},
   "outputs": [
    {
     "name": "stdout",
     "output_type": "stream",
     "text": [
      "Total kasus nasional:\n"
     ]
    },
    {
     "data": {
      "text/html": [
       "<div>\n",
       "<style scoped>\n",
       "    .dataframe tbody tr th:only-of-type {\n",
       "        vertical-align: middle;\n",
       "    }\n",
       "\n",
       "    .dataframe tbody tr th {\n",
       "        vertical-align: top;\n",
       "    }\n",
       "\n",
       "    .dataframe thead th {\n",
       "        text-align: right;\n",
       "    }\n",
       "</style>\n",
       "<table border=\"1\" class=\"dataframe\">\n",
       "  <thead>\n",
       "    <tr style=\"text-align: right;\">\n",
       "      <th></th>\n",
       "      <th>sum_cases</th>\n",
       "    </tr>\n",
       "  </thead>\n",
       "  <tbody>\n",
       "    <tr>\n",
       "      <th>0</th>\n",
       "      <td>54737145614</td>\n",
       "    </tr>\n",
       "  </tbody>\n",
       "</table>\n",
       "</div>"
      ],
      "text/plain": [
       "     sum_cases\n",
       "0  54737145614"
      ]
     },
     "execution_count": 142,
     "metadata": {},
     "output_type": "execute_result"
    }
   ],
   "source": [
    "# 1. Total kasus nasional\n",
    "print(\"Total kasus nasional:\")\n",
    "query1 = cube.query(m[\"sum_cases\"])\n",
    "result1 = query1.sort_values(by=\"sum_cases\", ascending=False)\n",
    "result1\n"
   ]
  },
  {
   "cell_type": "code",
   "execution_count": 148,
   "id": "95b0e071",
   "metadata": {},
   "outputs": [
    {
     "name": "stdout",
     "output_type": "stream",
     "text": [
      "Negara bagian dengan kematian terbanyak\n"
     ]
    },
    {
     "data": {
      "text/html": [
       "<div>\n",
       "<style scoped>\n",
       "    .dataframe tbody tr th:only-of-type {\n",
       "        vertical-align: middle;\n",
       "    }\n",
       "\n",
       "    .dataframe tbody tr th {\n",
       "        vertical-align: top;\n",
       "    }\n",
       "\n",
       "    .dataframe thead th {\n",
       "        text-align: right;\n",
       "    }\n",
       "</style>\n",
       "<table border=\"1\" class=\"dataframe\">\n",
       "  <thead>\n",
       "    <tr style=\"text-align: right;\">\n",
       "      <th></th>\n",
       "      <th>sum_deaths</th>\n",
       "    </tr>\n",
       "    <tr>\n",
       "      <th>state</th>\n",
       "      <th></th>\n",
       "    </tr>\n",
       "  </thead>\n",
       "  <tbody>\n",
       "    <tr>\n",
       "      <th>California</th>\n",
       "      <td>66691205</td>\n",
       "    </tr>\n",
       "  </tbody>\n",
       "</table>\n",
       "</div>"
      ],
      "text/plain": [
       "            sum_deaths\n",
       "state                 \n",
       "California    66691205"
      ]
     },
     "execution_count": 148,
     "metadata": {},
     "output_type": "execute_result"
    }
   ],
   "source": [
    "# 2 negara bagian dengan kematian terbanyak\n",
    "print (\"Negara bagian dengan kematian terbanyak\")\n",
    "query2 = cube.query(m[\"sum_deaths\"], levels=[cube.levels[\"covid\", \"Location\", \"state\"]])\n",
    "result2 = query2.sort_values(\"sum_deaths\", ascending=False).head(1)\n",
    "result2"
   ]
  },
  {
   "cell_type": "code",
   "execution_count": 178,
   "id": "9b2ca80a",
   "metadata": {},
   "outputs": [
    {
     "name": "stdout",
     "output_type": "stream",
     "text": [
      "\n",
      "Negara bagian dengan kematian perhari tertinggi di Januari 2021:\n"
     ]
    },
    {
     "data": {
      "text/html": [
       "<div>\n",
       "<style scoped>\n",
       "    .dataframe tbody tr th:only-of-type {\n",
       "        vertical-align: middle;\n",
       "    }\n",
       "\n",
       "    .dataframe tbody tr th {\n",
       "        vertical-align: top;\n",
       "    }\n",
       "\n",
       "    .dataframe thead th {\n",
       "        text-align: right;\n",
       "    }\n",
       "</style>\n",
       "<table border=\"1\" class=\"dataframe\">\n",
       "  <thead>\n",
       "    <tr style=\"text-align: right;\">\n",
       "      <th></th>\n",
       "      <th>state</th>\n",
       "      <th>Year</th>\n",
       "      <th>Month</th>\n",
       "      <th>sum_daily_deaths</th>\n",
       "    </tr>\n",
       "  </thead>\n",
       "  <tbody>\n",
       "    <tr>\n",
       "      <th>4</th>\n",
       "      <td>California</td>\n",
       "      <td>2021</td>\n",
       "      <td>January</td>\n",
       "      <td>14963</td>\n",
       "    </tr>\n",
       "    <tr>\n",
       "      <th>46</th>\n",
       "      <td>Texas</td>\n",
       "      <td>2021</td>\n",
       "      <td>January</td>\n",
       "      <td>9087</td>\n",
       "    </tr>\n",
       "    <tr>\n",
       "      <th>40</th>\n",
       "      <td>Pennsylvania</td>\n",
       "      <td>2021</td>\n",
       "      <td>January</td>\n",
       "      <td>5695</td>\n",
       "    </tr>\n",
       "    <tr>\n",
       "      <th>33</th>\n",
       "      <td>New York</td>\n",
       "      <td>2021</td>\n",
       "      <td>January</td>\n",
       "      <td>5621</td>\n",
       "    </tr>\n",
       "    <tr>\n",
       "      <th>9</th>\n",
       "      <td>Florida</td>\n",
       "      <td>2021</td>\n",
       "      <td>January</td>\n",
       "      <td>4806</td>\n",
       "    </tr>\n",
       "  </tbody>\n",
       "</table>\n",
       "</div>"
      ],
      "text/plain": [
       "           state  Year    Month  sum_daily_deaths\n",
       "4     California  2021  January             14963\n",
       "46         Texas  2021  January              9087\n",
       "40  Pennsylvania  2021  January              5695\n",
       "33      New York  2021  January              5621\n",
       "9        Florida  2021  January              4806"
      ]
     },
     "execution_count": 178,
     "metadata": {},
     "output_type": "execute_result"
    }
   ],
   "source": [
    "# 3. Negara bagian dengan kematian perhari tertinggi di Januari 2021\n",
    "print(\"\\nNegara bagian dengan kematian perhari tertinggi di Januari 2021:\")\n",
    "\n",
    "query3 = cube.query(\n",
    "    m[\"sum_daily_deaths\"],\n",
    "    levels=[cube.levels[\"covid\", \"Location\", \"state\"],\n",
    "           cube.levels[\"covid\", \"Time\", \"Year\"],\n",
    "           cube.levels[\"covid\", \"Time\", \"Month\"]],\n",
    "    filter=(\n",
    "        (cube.levels[\"covid\", \"Time\", \"Year\"] == \"2021\") &\n",
    "        (cube.levels[\"covid\", \"Time\", \"Month\"] == \"January\")\n",
    "    ),\n",
    "    mode = \"raw\"\n",
    ")\n",
    "\n",
    "result3 = query3.sort_values(by=\"sum_daily_deaths\", ascending=False).head(5)\n",
    "result3\n"
   ]
  },
  {
   "cell_type": "code",
   "execution_count": 149,
   "id": "0b441305",
   "metadata": {},
   "outputs": [
    {
     "name": "stdout",
     "output_type": "stream",
     "text": [
      "\n",
      "Negara bagian dengan fatality rate tertinggi:\n"
     ]
    },
    {
     "data": {
      "text/html": [
       "<div>\n",
       "<style scoped>\n",
       "    .dataframe tbody tr th:only-of-type {\n",
       "        vertical-align: middle;\n",
       "    }\n",
       "\n",
       "    .dataframe tbody tr th {\n",
       "        vertical-align: top;\n",
       "    }\n",
       "\n",
       "    .dataframe thead th {\n",
       "        text-align: right;\n",
       "    }\n",
       "</style>\n",
       "<table border=\"1\" class=\"dataframe\">\n",
       "  <thead>\n",
       "    <tr style=\"text-align: right;\">\n",
       "      <th></th>\n",
       "      <th>case_fatality_rate (%)</th>\n",
       "    </tr>\n",
       "    <tr>\n",
       "      <th>state</th>\n",
       "      <th></th>\n",
       "    </tr>\n",
       "  </thead>\n",
       "  <tbody>\n",
       "    <tr>\n",
       "      <th>New Jersey</th>\n",
       "      <td>1.801293</td>\n",
       "    </tr>\n",
       "    <tr>\n",
       "      <th>Connecticut</th>\n",
       "      <td>1.748534</td>\n",
       "    </tr>\n",
       "    <tr>\n",
       "      <th>Pennsylvania</th>\n",
       "      <td>1.732626</td>\n",
       "    </tr>\n",
       "    <tr>\n",
       "      <th>New York</th>\n",
       "      <td>1.699094</td>\n",
       "    </tr>\n",
       "    <tr>\n",
       "      <th>Mississippi</th>\n",
       "      <td>1.669587</td>\n",
       "    </tr>\n",
       "    <tr>\n",
       "      <th>Michigan</th>\n",
       "      <td>1.629312</td>\n",
       "    </tr>\n",
       "    <tr>\n",
       "      <th>Massachusetts</th>\n",
       "      <td>1.581531</td>\n",
       "    </tr>\n",
       "    <tr>\n",
       "      <th>Louisiana</th>\n",
       "      <td>1.561127</td>\n",
       "    </tr>\n",
       "    <tr>\n",
       "      <th>Arizona</th>\n",
       "      <td>1.553072</td>\n",
       "    </tr>\n",
       "    <tr>\n",
       "      <th>New Mexico</th>\n",
       "      <td>1.535903</td>\n",
       "    </tr>\n",
       "    <tr>\n",
       "      <th>Alabama</th>\n",
       "      <td>1.534879</td>\n",
       "    </tr>\n",
       "    <tr>\n",
       "      <th>Maryland</th>\n",
       "      <td>1.531405</td>\n",
       "    </tr>\n",
       "    <tr>\n",
       "      <th>Georgia</th>\n",
       "      <td>1.527947</td>\n",
       "    </tr>\n",
       "    <tr>\n",
       "      <th>Nevada</th>\n",
       "      <td>1.481013</td>\n",
       "    </tr>\n",
       "    <tr>\n",
       "      <th>Indiana</th>\n",
       "      <td>1.460687</td>\n",
       "    </tr>\n",
       "    <tr>\n",
       "      <th>Ohio</th>\n",
       "      <td>1.419691</td>\n",
       "    </tr>\n",
       "    <tr>\n",
       "      <th>Missouri</th>\n",
       "      <td>1.4059</td>\n",
       "    </tr>\n",
       "    <tr>\n",
       "      <th>Arkansas</th>\n",
       "      <td>1.401102</td>\n",
       "    </tr>\n",
       "    <tr>\n",
       "      <th>West Virginia</th>\n",
       "      <td>1.380517</td>\n",
       "    </tr>\n",
       "    <tr>\n",
       "      <th>Texas</th>\n",
       "      <td>1.354709</td>\n",
       "    </tr>\n",
       "    <tr>\n",
       "      <th>Oklahoma</th>\n",
       "      <td>1.334566</td>\n",
       "    </tr>\n",
       "    <tr>\n",
       "      <th>Illinois</th>\n",
       "      <td>1.319878</td>\n",
       "    </tr>\n",
       "    <tr>\n",
       "      <th>Iowa</th>\n",
       "      <td>1.303282</td>\n",
       "    </tr>\n",
       "    <tr>\n",
       "      <th>Florida</th>\n",
       "      <td>1.296454</td>\n",
       "    </tr>\n",
       "    <tr>\n",
       "      <th>South Dakota</th>\n",
       "      <td>1.288727</td>\n",
       "    </tr>\n",
       "    <tr>\n",
       "      <th>Tennessee</th>\n",
       "      <td>1.271839</td>\n",
       "    </tr>\n",
       "    <tr>\n",
       "      <th>South Carolina</th>\n",
       "      <td>1.26836</td>\n",
       "    </tr>\n",
       "    <tr>\n",
       "      <th>District of Columbia</th>\n",
       "      <td>1.251583</td>\n",
       "    </tr>\n",
       "    <tr>\n",
       "      <th>Montana</th>\n",
       "      <td>1.227723</td>\n",
       "    </tr>\n",
       "    <tr>\n",
       "      <th>Virginia</th>\n",
       "      <td>1.215601</td>\n",
       "    </tr>\n",
       "    <tr>\n",
       "      <th>Delaware</th>\n",
       "      <td>1.196414</td>\n",
       "    </tr>\n",
       "    <tr>\n",
       "      <th>Kansas</th>\n",
       "      <td>1.194665</td>\n",
       "    </tr>\n",
       "    <tr>\n",
       "      <th>Kentucky</th>\n",
       "      <td>1.170763</td>\n",
       "    </tr>\n",
       "    <tr>\n",
       "      <th>Rhode Island</th>\n",
       "      <td>1.16828</td>\n",
       "    </tr>\n",
       "    <tr>\n",
       "      <th>Wyoming</th>\n",
       "      <td>1.119354</td>\n",
       "    </tr>\n",
       "    <tr>\n",
       "      <th>Idaho</th>\n",
       "      <td>1.089085</td>\n",
       "    </tr>\n",
       "    <tr>\n",
       "      <th>California</th>\n",
       "      <td>1.066774</td>\n",
       "    </tr>\n",
       "    <tr>\n",
       "      <th>Oregon</th>\n",
       "      <td>1.048842</td>\n",
       "    </tr>\n",
       "    <tr>\n",
       "      <th>North Dakota</th>\n",
       "      <td>1.046457</td>\n",
       "    </tr>\n",
       "    <tr>\n",
       "      <th>Maine</th>\n",
       "      <td>0.988004</td>\n",
       "    </tr>\n",
       "    <tr>\n",
       "      <th>North Carolina</th>\n",
       "      <td>0.974538</td>\n",
       "    </tr>\n",
       "    <tr>\n",
       "      <th>Colorado</th>\n",
       "      <td>0.968732</td>\n",
       "    </tr>\n",
       "    <tr>\n",
       "      <th>Minnesota</th>\n",
       "      <td>0.963382</td>\n",
       "    </tr>\n",
       "    <tr>\n",
       "      <th>Washington</th>\n",
       "      <td>0.939616</td>\n",
       "    </tr>\n",
       "    <tr>\n",
       "      <th>New Hampshire</th>\n",
       "      <td>0.934264</td>\n",
       "    </tr>\n",
       "    <tr>\n",
       "      <th>Nebraska</th>\n",
       "      <td>0.924158</td>\n",
       "    </tr>\n",
       "    <tr>\n",
       "      <th>Wisconsin</th>\n",
       "      <td>0.91393</td>\n",
       "    </tr>\n",
       "    <tr>\n",
       "      <th>Guam</th>\n",
       "      <td>0.82632</td>\n",
       "    </tr>\n",
       "    <tr>\n",
       "      <th>Puerto Rico</th>\n",
       "      <td>0.719754</td>\n",
       "    </tr>\n",
       "    <tr>\n",
       "      <th>Virgin Islands</th>\n",
       "      <td>0.657655</td>\n",
       "    </tr>\n",
       "    <tr>\n",
       "      <th>Vermont</th>\n",
       "      <td>0.619223</td>\n",
       "    </tr>\n",
       "    <tr>\n",
       "      <th>Hawaii</th>\n",
       "      <td>0.609304</td>\n",
       "    </tr>\n",
       "    <tr>\n",
       "      <th>Utah</th>\n",
       "      <td>0.510226</td>\n",
       "    </tr>\n",
       "    <tr>\n",
       "      <th>Alaska</th>\n",
       "      <td>0.477187</td>\n",
       "    </tr>\n",
       "    <tr>\n",
       "      <th>American Samoa</th>\n",
       "      <td>0.408444</td>\n",
       "    </tr>\n",
       "    <tr>\n",
       "      <th>Northern Mariana Islands</th>\n",
       "      <td>0.327601</td>\n",
       "    </tr>\n",
       "  </tbody>\n",
       "</table>\n",
       "</div>"
      ],
      "text/plain": [
       "                          case_fatality_rate (%)\n",
       "state                                           \n",
       "New Jersey                              1.801293\n",
       "Connecticut                             1.748534\n",
       "Pennsylvania                            1.732626\n",
       "New York                                1.699094\n",
       "Mississippi                             1.669587\n",
       "Michigan                                1.629312\n",
       "Massachusetts                           1.581531\n",
       "Louisiana                               1.561127\n",
       "Arizona                                 1.553072\n",
       "New Mexico                              1.535903\n",
       "Alabama                                 1.534879\n",
       "Maryland                                1.531405\n",
       "Georgia                                 1.527947\n",
       "Nevada                                  1.481013\n",
       "Indiana                                 1.460687\n",
       "Ohio                                    1.419691\n",
       "Missouri                                  1.4059\n",
       "Arkansas                                1.401102\n",
       "West Virginia                           1.380517\n",
       "Texas                                   1.354709\n",
       "Oklahoma                                1.334566\n",
       "Illinois                                1.319878\n",
       "Iowa                                    1.303282\n",
       "Florida                                 1.296454\n",
       "South Dakota                            1.288727\n",
       "Tennessee                               1.271839\n",
       "South Carolina                           1.26836\n",
       "District of Columbia                    1.251583\n",
       "Montana                                 1.227723\n",
       "Virginia                                1.215601\n",
       "Delaware                                1.196414\n",
       "Kansas                                  1.194665\n",
       "Kentucky                                1.170763\n",
       "Rhode Island                             1.16828\n",
       "Wyoming                                 1.119354\n",
       "Idaho                                   1.089085\n",
       "California                              1.066774\n",
       "Oregon                                  1.048842\n",
       "North Dakota                            1.046457\n",
       "Maine                                   0.988004\n",
       "North Carolina                          0.974538\n",
       "Colorado                                0.968732\n",
       "Minnesota                               0.963382\n",
       "Washington                              0.939616\n",
       "New Hampshire                           0.934264\n",
       "Nebraska                                0.924158\n",
       "Wisconsin                                0.91393\n",
       "Guam                                     0.82632\n",
       "Puerto Rico                             0.719754\n",
       "Virgin Islands                          0.657655\n",
       "Vermont                                 0.619223\n",
       "Hawaii                                  0.609304\n",
       "Utah                                    0.510226\n",
       "Alaska                                  0.477187\n",
       "American Samoa                          0.408444\n",
       "Northern Mariana Islands                0.327601"
      ]
     },
     "execution_count": 149,
     "metadata": {},
     "output_type": "execute_result"
    }
   ],
   "source": [
    "# 4. Negara bagian dengan fatality rate tertinggi\n",
    "print(\"\\nNegara bagian dengan fatality rate tertinggi:\")\n",
    "query4 = cube.query(m[\"case_fatality_rate (%)\"],levels=[cube.levels[\"covid\", \"Location\", \"state\"]])  \n",
    "result4 = query4.sort_values(by = \"case_fatality_rate (%)\", ascending = False)\n",
    "result4\n"
   ]
  },
  {
   "cell_type": "code",
   "execution_count": 174,
   "id": "b6acbba5",
   "metadata": {},
   "outputs": [
    {
     "name": "stdout",
     "output_type": "stream",
     "text": [
      "\n",
      "Negara bagian dengan kasus tertinggi:\n"
     ]
    },
    {
     "data": {
      "text/html": [
       "<div>\n",
       "<style scoped>\n",
       "    .dataframe tbody tr th:only-of-type {\n",
       "        vertical-align: middle;\n",
       "    }\n",
       "\n",
       "    .dataframe tbody tr th {\n",
       "        vertical-align: top;\n",
       "    }\n",
       "\n",
       "    .dataframe thead th {\n",
       "        text-align: right;\n",
       "    }\n",
       "</style>\n",
       "<table border=\"1\" class=\"dataframe\">\n",
       "  <thead>\n",
       "    <tr style=\"text-align: right;\">\n",
       "      <th></th>\n",
       "      <th>state</th>\n",
       "      <th>sum_cases</th>\n",
       "    </tr>\n",
       "  </thead>\n",
       "  <tbody>\n",
       "    <tr>\n",
       "      <th>5</th>\n",
       "      <td>California</td>\n",
       "      <td>6251672544</td>\n",
       "    </tr>\n",
       "    <tr>\n",
       "      <th>47</th>\n",
       "      <td>Texas</td>\n",
       "      <td>4628783760</td>\n",
       "    </tr>\n",
       "    <tr>\n",
       "      <th>10</th>\n",
       "      <td>Florida</td>\n",
       "      <td>4049788557</td>\n",
       "    </tr>\n",
       "    <tr>\n",
       "      <th>34</th>\n",
       "      <td>New York</td>\n",
       "      <td>3437931225</td>\n",
       "    </tr>\n",
       "    <tr>\n",
       "      <th>15</th>\n",
       "      <td>Illinois</td>\n",
       "      <td>2182620663</td>\n",
       "    </tr>\n",
       "  </tbody>\n",
       "</table>\n",
       "</div>"
      ],
      "text/plain": [
       "         state   sum_cases\n",
       "5   California  6251672544\n",
       "47       Texas  4628783760\n",
       "10     Florida  4049788557\n",
       "34    New York  3437931225\n",
       "15    Illinois  2182620663"
      ]
     },
     "execution_count": 174,
     "metadata": {},
     "output_type": "execute_result"
    }
   ],
   "source": [
    "# 5. Negara bagian dengan kasus tertinggi\n",
    "print(\"\\nNegara bagian dengan kasus tertinggi:\")\n",
    "query5 = cube.query(m[\"sum_cases\"], levels=[cube.levels[\"covid\", \"Location\", \"state\"]],\n",
    "                   mode=\"raw\")\n",
    "result5 = query5.sort_values(\"sum_cases\", ascending=False).head(5)\n",
    "result5\n"
   ]
  },
  {
   "cell_type": "code",
   "execution_count": 173,
   "id": "b0e309d9-98a5-4802-9803-834c9f0f4b62",
   "metadata": {},
   "outputs": [
    {
     "name": "stdout",
     "output_type": "stream",
     "text": [
      "\n",
      "Negara bagian dengan kematian perhari tertinggi:\n"
     ]
    },
    {
     "data": {
      "text/html": [
       "<div>\n",
       "<style scoped>\n",
       "    .dataframe tbody tr th:only-of-type {\n",
       "        vertical-align: middle;\n",
       "    }\n",
       "\n",
       "    .dataframe tbody tr th {\n",
       "        vertical-align: top;\n",
       "    }\n",
       "\n",
       "    .dataframe thead th {\n",
       "        text-align: right;\n",
       "    }\n",
       "</style>\n",
       "<table border=\"1\" class=\"dataframe\">\n",
       "  <thead>\n",
       "    <tr style=\"text-align: right;\">\n",
       "      <th></th>\n",
       "      <th>state</th>\n",
       "      <th>sum_daily_deaths</th>\n",
       "    </tr>\n",
       "  </thead>\n",
       "  <tbody>\n",
       "    <tr>\n",
       "      <th>5</th>\n",
       "      <td>California</td>\n",
       "      <td>105198</td>\n",
       "    </tr>\n",
       "    <tr>\n",
       "      <th>47</th>\n",
       "      <td>Texas</td>\n",
       "      <td>94604</td>\n",
       "    </tr>\n",
       "    <tr>\n",
       "      <th>10</th>\n",
       "      <td>Florida</td>\n",
       "      <td>87142</td>\n",
       "    </tr>\n",
       "    <tr>\n",
       "      <th>34</th>\n",
       "      <td>New York</td>\n",
       "      <td>80415</td>\n",
       "    </tr>\n",
       "    <tr>\n",
       "      <th>41</th>\n",
       "      <td>Pennsylvania</td>\n",
       "      <td>50562</td>\n",
       "    </tr>\n",
       "  </tbody>\n",
       "</table>\n",
       "</div>"
      ],
      "text/plain": [
       "           state  sum_daily_deaths\n",
       "5     California            105198\n",
       "47         Texas             94604\n",
       "10       Florida             87142\n",
       "34      New York             80415\n",
       "41  Pennsylvania             50562"
      ]
     },
     "execution_count": 173,
     "metadata": {},
     "output_type": "execute_result"
    }
   ],
   "source": [
    "print(\"\\nNegara bagian dengan kematian perhari tertinggi:\")\n",
    "\n",
    "query6 = cube.query(\n",
    "    m[\"sum_daily_deaths\"],\n",
    "    levels=[cube.levels[\"covid\", \"Location\", \"state\"]],\n",
    "    mode=\"raw\"\n",
    ")\n",
    "\n",
    "result6 = query6.sort_values(by=\"sum_daily_deaths\", ascending=False).head(5)\n",
    "result6"
   ]
  },
  {
   "cell_type": "code",
   "execution_count": 154,
   "id": "fd3207ed-9e7e-4df3-9f25-520f12e302a7",
   "metadata": {},
   "outputs": [
    {
     "name": "stdout",
     "output_type": "stream",
     "text": [
      "\n",
      "Jumlah kematian di negara bagian Florida selama tahun 2022:\n"
     ]
    },
    {
     "data": {
      "text/html": [
       "<div>\n",
       "<style scoped>\n",
       "    .dataframe tbody tr th:only-of-type {\n",
       "        vertical-align: middle;\n",
       "    }\n",
       "\n",
       "    .dataframe tbody tr th {\n",
       "        vertical-align: top;\n",
       "    }\n",
       "\n",
       "    .dataframe thead th {\n",
       "        text-align: right;\n",
       "    }\n",
       "</style>\n",
       "<table border=\"1\" class=\"dataframe\">\n",
       "  <thead>\n",
       "    <tr style=\"text-align: right;\">\n",
       "      <th></th>\n",
       "      <th>state</th>\n",
       "      <th>Year</th>\n",
       "      <th>sum_deaths</th>\n",
       "    </tr>\n",
       "  </thead>\n",
       "  <tbody>\n",
       "    <tr>\n",
       "      <th>0</th>\n",
       "      <td>Florida</td>\n",
       "      <td>2022</td>\n",
       "      <td>27554224</td>\n",
       "    </tr>\n",
       "  </tbody>\n",
       "</table>\n",
       "</div>"
      ],
      "text/plain": [
       "     state  Year  sum_deaths\n",
       "0  Florida  2022    27554224"
      ]
     },
     "execution_count": 154,
     "metadata": {},
     "output_type": "execute_result"
    }
   ],
   "source": [
    "print(\"\\nJumlah kematian di negara bagian Florida selama tahun 2022:\")\n",
    "\n",
    "query6 = cube.query(\n",
    "    m[\"sum_deaths\"],\n",
    "    levels=[\n",
    "        cube.levels[\"covid\", \"Location\", \"state\"],\n",
    "        cube.levels[\"covid\", \"Time\", \"Year\"]\n",
    "    ],\n",
    "    filter=(\n",
    "        (cube.levels[\"covid\", \"Location\", \"state\"] == \"Florida\") &\n",
    "        (cube.levels[\"covid\", \"Time\", \"Year\"] == \"2022\")\n",
    "    ),\n",
    "    mode=\"raw\"\n",
    ")\n",
    "\n",
    "result6 = query6.sort_values(\"sum_deaths\", ascending=False)\n",
    "result6\n"
   ]
  },
  {
   "cell_type": "code",
   "execution_count": 155,
   "id": "d5b58d5d-b8aa-4a59-a06c-a2137e0a64d2",
   "metadata": {},
   "outputs": [
    {
     "name": "stdout",
     "output_type": "stream",
     "text": [
      "\n",
      "Jumlah kasus harian di Texas pada Februari 2020:\n"
     ]
    },
    {
     "data": {
      "text/html": [
       "<div>\n",
       "<style scoped>\n",
       "    .dataframe tbody tr th:only-of-type {\n",
       "        vertical-align: middle;\n",
       "    }\n",
       "\n",
       "    .dataframe tbody tr th {\n",
       "        vertical-align: top;\n",
       "    }\n",
       "\n",
       "    .dataframe thead th {\n",
       "        text-align: right;\n",
       "    }\n",
       "</style>\n",
       "<table border=\"1\" class=\"dataframe\">\n",
       "  <thead>\n",
       "    <tr style=\"text-align: right;\">\n",
       "      <th></th>\n",
       "      <th>state</th>\n",
       "      <th>Year</th>\n",
       "      <th>Month</th>\n",
       "      <th>sum_daily_cases</th>\n",
       "    </tr>\n",
       "  </thead>\n",
       "  <tbody>\n",
       "    <tr>\n",
       "      <th>0</th>\n",
       "      <td>Texas</td>\n",
       "      <td>2020</td>\n",
       "      <td>February</td>\n",
       "      <td>10</td>\n",
       "    </tr>\n",
       "  </tbody>\n",
       "</table>\n",
       "</div>"
      ],
      "text/plain": [
       "   state  Year     Month  sum_daily_cases\n",
       "0  Texas  2020  February               10"
      ]
     },
     "execution_count": 155,
     "metadata": {},
     "output_type": "execute_result"
    }
   ],
   "source": [
    "print(\"\\nJumlah kasus harian di Texas pada Februari 2020:\")\n",
    "\n",
    "query7 = cube.query(\n",
    "    m[\"sum_daily_cases\"],\n",
    "    levels=[\n",
    "        cube.levels[\"covid\", \"Location\", \"state\"],\n",
    "        cube.levels[\"covid\", \"Time\", \"Year\"],\n",
    "        cube.levels[\"covid\", \"Time\", \"Month\"],\n",
    "    ],\n",
    "    filter=(\n",
    "        (cube.levels[\"covid\", \"Location\", \"state\"] == \"Texas\") &\n",
    "        (cube.levels[\"covid\", \"Time\", \"Year\"] == \"2020\") &\n",
    "        (cube.levels[\"covid\", \"Time\", \"Month\"] == \"February\")\n",
    "    ),\n",
    "    mode=\"raw\"\n",
    ")\n",
    "result7 = query7.sort_values(\"sum_daily_cases\", ascending=False)\n",
    "result7\n"
   ]
  },
  {
   "cell_type": "code",
   "execution_count": 175,
   "id": "3475d189-e986-42c4-b531-590ae13159dd",
   "metadata": {},
   "outputs": [
    {
     "name": "stdout",
     "output_type": "stream",
     "text": [
      "\n",
      "Negara bagian dengan kematian tertinggi:\n"
     ]
    },
    {
     "data": {
      "text/html": [
       "<div>\n",
       "<style scoped>\n",
       "    .dataframe tbody tr th:only-of-type {\n",
       "        vertical-align: middle;\n",
       "    }\n",
       "\n",
       "    .dataframe tbody tr th {\n",
       "        vertical-align: top;\n",
       "    }\n",
       "\n",
       "    .dataframe thead th {\n",
       "        text-align: right;\n",
       "    }\n",
       "</style>\n",
       "<table border=\"1\" class=\"dataframe\">\n",
       "  <thead>\n",
       "    <tr style=\"text-align: right;\">\n",
       "      <th></th>\n",
       "      <th>state</th>\n",
       "      <th>sum_deaths</th>\n",
       "    </tr>\n",
       "  </thead>\n",
       "  <tbody>\n",
       "    <tr>\n",
       "      <th>5</th>\n",
       "      <td>California</td>\n",
       "      <td>66691205</td>\n",
       "    </tr>\n",
       "    <tr>\n",
       "      <th>47</th>\n",
       "      <td>Texas</td>\n",
       "      <td>62706557</td>\n",
       "    </tr>\n",
       "    <tr>\n",
       "      <th>34</th>\n",
       "      <td>New York</td>\n",
       "      <td>58413679</td>\n",
       "    </tr>\n",
       "    <tr>\n",
       "      <th>10</th>\n",
       "      <td>Florida</td>\n",
       "      <td>52503664</td>\n",
       "    </tr>\n",
       "    <tr>\n",
       "      <th>41</th>\n",
       "      <td>Pennsylvania</td>\n",
       "      <td>32506859</td>\n",
       "    </tr>\n",
       "  </tbody>\n",
       "</table>\n",
       "</div>"
      ],
      "text/plain": [
       "           state  sum_deaths\n",
       "5     California    66691205\n",
       "47         Texas    62706557\n",
       "34      New York    58413679\n",
       "10       Florida    52503664\n",
       "41  Pennsylvania    32506859"
      ]
     },
     "execution_count": 175,
     "metadata": {},
     "output_type": "execute_result"
    }
   ],
   "source": [
    "print(\"\\nNegara bagian dengan kematian tertinggi:\")\n",
    "\n",
    "query8 = cube.query(\n",
    "    m[\"sum_deaths\"],\n",
    "    levels=[cube.levels[\"covid\", \"Location\", \"state\"]],\n",
    "    mode=\"raw\"\n",
    ")\n",
    "\n",
    "result8 = query8.sort_values(by=\"sum_deaths\", ascending=False).head(5)\n",
    "result8"
   ]
  },
  {
   "cell_type": "code",
   "execution_count": 156,
   "id": "aa7ec3e6",
   "metadata": {
    "atoti": {
     "widget": {
      "filters": [
       {
        "dimensionName": "covid",
        "hierarchyName": "state",
        "includeAllMembers": false,
        "isExclusionFilter": false,
        "members": [
         [
          "AllMember",
          "California"
         ],
         [
          "AllMember",
          "Florida"
         ],
         [
          "AllMember",
          "New York"
         ],
         [
          "AllMember",
          "Pennsylvania"
         ],
         [
          "AllMember",
          "Texas"
         ]
        ],
        "type": "members"
       }
      ],
      "mapping": {
       "horizontalSubplots": [],
       "sliceBy": [
        "[covid].[state].[state]"
       ],
       "values": [
        "[Measures].[daily_deaths.SUM]"
       ],
       "verticalSubplots": []
      },
      "query": {
       "mdx": "SELECT NON EMPTY {[Measures].[daily_deaths.SUM]} ON COLUMNS, NON EMPTY Hierarchize(Descendants({[covid].[state].[ALL].[AllMember]}, 1, SELF_AND_BEFORE)) ON ROWS FROM [covid] CELL PROPERTIES VALUE, FORMATTED_VALUE, BACK_COLOR, FORE_COLOR, FONT_FLAGS",
       "updateMode": "once"
      },
      "serverKey": "default",
      "widgetKey": "plotly-pie-chart"
     }
    }
   },
   "outputs": [
    {
     "data": {
      "application/vnd.atoti.widget.v0+json": {
       "sessionId": "1749110961_413240",
       "sessionUrl": "http://localhost:62429",
       "widgetCreationCode": "session.widget"
      },
      "text/html": [
       "<img height=\"352\" width=\"834\" src=\"data:image/png;base64,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\" />"
      ],
      "text/plain": [
       "Open the notebook in JupyterLab with the Atoti JupyterLab extension enabled to build this widget."
      ]
     },
     "metadata": {},
     "output_type": "display_data"
    }
   ],
   "source": [
    "session.widget"
   ]
  },
  {
   "cell_type": "code",
   "execution_count": 157,
   "id": "bbf521d8-455f-4746-b555-3dc31ec3dd6e",
   "metadata": {
    "atoti": {
     "widget": {
      "filters": [
       {
        "dimensionName": "covid",
        "hierarchyName": "state",
        "includeAllMembers": false,
        "isExclusionFilter": false,
        "members": [
         [
          "AllMember",
          "California"
         ],
         [
          "AllMember",
          "Florida"
         ],
         [
          "AllMember",
          "New York"
         ],
         [
          "AllMember",
          "Texas"
         ],
         [
          "AllMember",
          "Illinois"
         ]
        ],
        "type": "members"
       }
      ],
      "mapping": {
       "horizontalSubplots": [],
       "splitBy": [
        "ALL_MEASURES"
       ],
       "values": [
        "[Measures].[cases.SUM]"
       ],
       "verticalSubplots": [],
       "xAxis": [
        "[covid].[Location].[state]"
       ]
      },
      "query": {
       "mdx": "SELECT NON EMPTY {[Measures].[cases.SUM]} ON COLUMNS, NON EMPTY Hierarchize(Descendants({[covid].[Location].[ALL].[AllMember]}, 1, SELF_AND_BEFORE)) ON ROWS FROM [covid] CELL PROPERTIES VALUE, FORMATTED_VALUE, BACK_COLOR, FORE_COLOR, FONT_FLAGS",
       "updateMode": "once"
      },
      "serverKey": "default",
      "widgetKey": "plotly-clustered-column-chart"
     }
    }
   },
   "outputs": [
    {
     "data": {
      "application/vnd.atoti.widget.v0+json": {
       "sessionId": "1749110961_413240",
       "sessionUrl": "http://localhost:62429",
       "widgetCreationCode": "session.widget"
      },
      "text/html": [
       "<img height=\"352\" width=\"834\" src=\"data:image/png;base64,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\" />"
      ],
      "text/plain": [
       "Open the notebook in JupyterLab with the Atoti JupyterLab extension enabled to build this widget."
      ]
     },
     "metadata": {},
     "output_type": "display_data"
    }
   ],
   "source": [
    "session.widget"
   ]
  },
  {
   "cell_type": "code",
   "execution_count": 176,
   "id": "7f46fa85-fe61-404f-9588-3300301461e7",
   "metadata": {},
   "outputs": [
    {
     "name": "stdout",
     "output_type": "stream",
     "text": [
      "Index(['state', 'sum_cases'], dtype='object')\n",
      "Index(['state', 'sum_deaths'], dtype='object')\n"
     ]
    }
   ],
   "source": [
    "print(result5.columns)\n",
    "print(result8.columns)\n",
    "\n"
   ]
  },
  {
   "cell_type": "code",
   "execution_count": 177,
   "id": "905eaed6-9be5-4ea5-b6be-27b0b015481f",
   "metadata": {},
   "outputs": [
    {
     "data": {
      "image/png": "[encoded data removed]",
      "text/plain": [
       "<Figure size 1200x600 with 1 Axes>"
      ]
     },
     "metadata": {},
     "output_type": "display_data"
    }
   ],
   "source": [
    "# Visualisasi join deaths and cases\n",
    "import matplotlib.pyplot as plt\n",
    "import numpy as np\n",
    "\n",
    "merged = pd.merge(result5, result8, on='state')\n",
    "\n",
    "\n",
    "states = merged['state']\n",
    "cases = merged['sum_cases']\n",
    "deaths = merged['sum_deaths']\n",
    "\n",
    "x = np.arange(len(states))\n",
    "width = 0.35 \n",
    "\n",
    "fig, ax = plt.subplots(figsize=(12,6))\n",
    "\n",
    "bar1 = ax.bar(x - width/2, cases, width, label='Total Cases', color='skyblue')\n",
    "bar2 = ax.bar(x + width/2, deaths, width, label='Total Deaths', color='salmon')\n",
    "\n",
    "# Label dan judul\n",
    "ax.set_xlabel('State')\n",
    "ax.set_ylabel('Count')\n",
    "ax.set_title('Total COVID Cases and Deaths by State')\n",
    "ax.set_xticks(x)\n",
    "ax.set_xticklabels(states)\n",
    "ax.legend()\n",
    "\n",
    "plt.show()\n"
   ]
  },
  {
   "cell_type": "code",
   "execution_count": null,
   "id": "a6682f51-2a5c-4c88-a10c-8b2ed4f55609",
   "metadata": {},
   "outputs": [],
   "source": []
  }
 ],
 "metadata": {
  "kernelspec": {
   "display_name": "Python 3 (ipykernel)",
   "language": "python",
   "name": "python3"
  },
  "language_info": {
   "codemirror_mode": {
    "name": "ipython",
    "version": 3
   },
   "file_extension": ".py",
   "mimetype": "text/x-python",
   "name": "python",
   "nbconvert_exporter": "python",
   "pygments_lexer": "ipython3",
   "version": "3.12.6"
  }
 },
 "nbformat": 4,
 "nbformat_minor": 5
}
